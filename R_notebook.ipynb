{
  "nbformat": 4,
  "nbformat_minor": 0,
  "metadata": {
    "colab": {
      "name": "R notebook.ipynb",
      "provenance": [],
      "collapsed_sections": [],
      "include_colab_link": true
    },
    "kernelspec": {
      "name": "python2",
      "display_name": "Python 2"
    }
  },
  "cells": [
    {
      "cell_type": "markdown",
      "metadata": {
        "id": "view-in-github",
        "colab_type": "text"
      },
      "source": [
        "<a href=\"https://colab.research.google.com/github/DSPG-2022/Community-Visioning/blob/main/R_notebook.ipynb\" target=\"_parent\"><img src=\"https://colab.research.google.com/assets/colab-badge.svg\" alt=\"Open In Colab\"/></a>"
      ]
    },
    {
      "cell_type": "markdown",
      "metadata": {
        "id": "CxEqIMB8NuXt"
      },
      "source": [
        "# Please try the newer version here:\n",
        "\n",
        "https://colab.research.google.com/drive/1BYnnbqeyZAlYnxR9IHC8tpW07EpDeyKR\n",
        "\n",
        "or Kaggle R jupyter notebook which supports R and Rstan by default:\n",
        "\n",
        "https://www.kaggle.com/thimac/rstan?scriptVersionId=20867095\n"
      ]
    },
    {
      "cell_type": "markdown",
      "metadata": {
        "id": "fAa-60W7N0yW"
      },
      "source": [
        "------"
      ]
    },
    {
      "cell_type": "markdown",
      "metadata": {
        "id": "WzpJq3ZrrDS3"
      },
      "source": [
        "See [here](https://colab.research.google.com/drive/1_MmJuotDr9izNwivjgfD1J_bd4OvTFLq) for installing R + brms.\n",
        "\n",
        "## Setup code\n",
        "Run the following commands once (~2-3 mins).  It will replace your python2 jupyter kernel by R kernel.\n",
        "\n",
        "Then, go to menu **Runtime -> Manage Sessions -> TERMINATE**.  \n",
        "\n",
        "Finally, **RECONNECT**, skip **Setup** and  run **R Code** section."
      ]
    },
    {
      "cell_type": "code",
      "metadata": {
        "id": "84XnTkx80uv0",
        "outputId": "658523fc-7aaf-4854-b923-8f77bf90a248",
        "colab": {
          "base_uri": "https://localhost:8080/"
        }
      },
      "source": [
        "!apt-get install libssl-dev > /dev/null\n",
        "!wget https://repo.continuum.io/miniconda/Miniconda3-latest-Linux-x86_64.sh\n",
        "!chmod +x ./Miniconda3-latest-Linux-x86_64.sh\n",
        "!./Miniconda3-latest-Linux-x86_64.sh -b -p /conda  > /dev/null 2>&1 \n",
        "!/conda/bin/conda install -c r r-rstan r-irkernel gxx_linux-64 -y -q > /dev/null 2>&1\n",
        "!/conda/bin/R -e \"IRkernel::installspec(name = 'python2', displayname = 'R', user = FALSE)\"  > /dev/null 2>&1\n",
        "!mkdir /root/.R/\n",
        "!echo \"CXX14FLAGS=-O3 -mtune=native -march=native -Wno-ignored-attributes -Wno-deprecated-declarations\" > /root/.R/Makevars\n",
        "import os\n",
        "os._exit(00)\n"
      ],
      "execution_count": null,
      "outputs": [
        {
          "output_type": "stream",
          "name": "stdout",
          "text": [
            "--2022-06-23 21:13:10--  https://repo.continuum.io/miniconda/Miniconda3-latest-Linux-x86_64.sh\n",
            "Resolving repo.continuum.io (repo.continuum.io)... 104.18.201.79, 104.18.200.79, 2606:4700::6812:c84f, ...\n",
            "Connecting to repo.continuum.io (repo.continuum.io)|104.18.201.79|:443... connected.\n",
            "HTTP request sent, awaiting response... 301 Moved Permanently\n",
            "Location: https://repo.anaconda.com/miniconda/Miniconda3-latest-Linux-x86_64.sh [following]\n",
            "--2022-06-23 21:13:10--  https://repo.anaconda.com/miniconda/Miniconda3-latest-Linux-x86_64.sh\n",
            "Resolving repo.anaconda.com (repo.anaconda.com)... 104.16.131.3, 104.16.130.3, 2606:4700::6810:8303, ...\n",
            "Connecting to repo.anaconda.com (repo.anaconda.com)|104.16.131.3|:443... connected.\n",
            "HTTP request sent, awaiting response... 200 OK\n",
            "Length: 76607678 (73M) [application/x-sh]\n",
            "Saving to: ‘Miniconda3-latest-Linux-x86_64.sh.1’\n",
            "\n",
            "Miniconda3-latest-L 100%[===================>]  73.06M   140MB/s    in 0.5s    \n",
            "\n",
            "2022-06-23 21:13:11 (140 MB/s) - ‘Miniconda3-latest-Linux-x86_64.sh.1’ saved [76607678/76607678]\n",
            "\n",
            "mkdir: cannot create directory ‘/root/.R/’: File exists\n"
          ]
        }
      ]
    },
    {
      "cell_type": "markdown",
      "metadata": {
        "id": "iP5vPFMosIrT"
      },
      "source": [
        "## Install libraries"
      ]
    },
    {
      "cell_type": "code",
      "metadata": {
        "id": "lrviXw6-sKWn"
      },
      "source": [
        "Sys.setenv(PATH= paste(\"/conda/bin\" , Sys.getenv(\"PATH\"), sep = \":\" ) )\n",
        "install.packages('ggmap', repos='http://cran.rstudio.com/')\n",
        "\n",
        "install.packages('codetools', repos='http://cran.rstudio.com/')"
      ],
      "execution_count": null,
      "outputs": []
    },
    {
      "cell_type": "markdown",
      "metadata": {
        "id": "8elxrVCMr_pa"
      },
      "source": [
        "## R code\n"
      ]
    },
    {
      "cell_type": "code",
      "metadata": {
        "id": "GuQ1OjOBZP3Y"
      },
      "source": [
        "options(repr.plot.width  = 3,\n",
        "        repr.plot.height = 3)\n",
        "Sys.setenv(USE_CXX14 = 0)\n",
        "library(\"rstan\") # observe startup messages\n",
        "options(mc.cores = parallel::detectCores())\n",
        "rstan_options(auto_write = TRUE)"
      ],
      "execution_count": null,
      "outputs": []
    },
    {
      "cell_type": "code",
      "metadata": {
        "id": "jLDcyeQProYg"
      },
      "source": [
        "x <- seq(0, 2*pi, length.out=50)\n",
        "plot(x, sin(x))"
      ],
      "execution_count": null,
      "outputs": []
    },
    {
      "cell_type": "code",
      "metadata": {
        "id": "345En8SKt-8x"
      },
      "source": [
        "stanmodelcode <- \"\n",
        "data {\n",
        "    int<lower=0> N; \n",
        "    real y[N];\n",
        "}\n",
        "\n",
        "parameters {\n",
        "    real mu; \n",
        "\n",
        "}\n",
        "\n",
        "model {\n",
        "    target += normal_lpdf(mu | 0, 10);\n",
        "    target += normal_lpdf(y | mu, 1);\n",
        "}\"\n",
        "\n",
        "y <- rnorm(20)\n",
        "dat <- list(N = 20, y = y);\n",
        "\n",
        "fit <- stan(model_code = stanmodelcode, model_name = \"example\",\n",
        "            data = dat, iter = 2012, chains = 8, sample_file = 'norm.csv',\n",
        "            verbose = FALSE,\n",
        "            refresh = -1)\n",
        "\n",
        "print(fit)"
      ],
      "execution_count": null,
      "outputs": []
    },
    {
      "cell_type": "code",
      "metadata": {
        "id": "GKu9Y8v0iMhG"
      },
      "source": [
        "plot(fit)"
      ],
      "execution_count": null,
      "outputs": []
    },
    {
      "cell_type": "code",
      "metadata": {
        "id": "LaY0bTArk6yo"
      },
      "source": [
        "y <- as.matrix(read.table('https://raw.github.com/wiki/stan-dev/rstan/rats.txt', header = TRUE))\n",
        "x <- c(8, 15, 22, 29, 36)\n",
        "xbar <- mean(x)\n",
        "N <- nrow(y)\n",
        "T <- ncol(y)\n",
        "rats_fit <- stan(file = 'https://raw.githubusercontent.com/stan-dev/example-models/master/bugs_examples/vol1/rats/rats.stan')\n"
      ],
      "execution_count": null,
      "outputs": []
    },
    {
      "cell_type": "code",
      "metadata": {
        "id": "_FDcLeSQk7v4"
      },
      "source": [
        "rats_fit"
      ],
      "execution_count": null,
      "outputs": []
    },
    {
      "cell_type": "code",
      "metadata": {
        "id": "UTE9jjocnOL1"
      },
      "source": [
        "plot(rats_fit)"
      ],
      "execution_count": null,
      "outputs": []
    },
    {
      "cell_type": "code",
      "metadata": {
        "id": "RTwsDP44nV7m"
      },
      "source": [
        "install.packages('recommenderlab', repos='http://cran.rstudio.com/')\n"
      ],
      "execution_count": null,
      "outputs": []
    },
    {
      "cell_type": "code",
      "metadata": {
        "id": "hIdkBxvOEs8o"
      },
      "source": [
        "library(\"recommenderlab\") "
      ],
      "execution_count": null,
      "outputs": []
    },
    {
      "cell_type": "code",
      "metadata": {
        "id": "CNmtnikVE3nX"
      },
      "source": [
        ""
      ],
      "execution_count": null,
      "outputs": []
    }
  ]
}